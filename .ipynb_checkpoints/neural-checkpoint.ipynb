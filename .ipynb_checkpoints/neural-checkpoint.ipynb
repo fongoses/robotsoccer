{
 "metadata": {
  "name": "",
  "signature": "sha256:6a411b6de551d31d6a5f345d1dc142cb1d966f8dd6ccbda81558e66598e62992"
 },
 "nbformat": 3,
 "nbformat_minor": 0,
 "worksheets": []
}