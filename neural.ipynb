{
 "metadata": {
  "name": "",
  "signature": "sha256:7bdfd769a769a0f714416581e1cf49af7e909324a4896d12460bf15f65a4b9fb"
 },
 "nbformat": 3,
 "nbformat_minor": 0,
 "worksheets": [
  {
   "cells": [
    {
     "cell_type": "code",
     "collapsed": false,
     "input": [
      "%pylab inline"
     ],
     "language": "python",
     "metadata": {},
     "outputs": [
      {
       "output_type": "stream",
       "stream": "stdout",
       "text": [
        "Populating the interactive namespace from numpy and matplotlib\n"
       ]
      }
     ],
     "prompt_number": 1
    },
    {
     "cell_type": "code",
     "collapsed": false,
     "input": [
      "import numpy as np\n",
      "import math\n",
      "import neurolab as nl\n",
      "import fuzzy_ia\n",
      "\n",
      "\"\"\"\n",
      "Creates the network with 6 neurons on hidden layer and 2 on output layer\n",
      "\"\"\"\n",
      "net = nl.net.newff([[-180,180],[-180,180]],[6,2])\n",
      "\n",
      "\n",
      "\"\"\"\n",
      "Creates the input data that will be used to train the network\n",
      "\"\"\"\n",
      "data = np.array([fuzzy_ia.angle_dmn, fuzzy_ia.angle_dmn]).reshape(360,2)\n",
      "\n",
      "\n",
      "\"\"\"\n",
      "Set the target function to the fuzzy function plus some random gaussian noise\n",
      "\"\"\"\n",
      "target_function = lambda x: fuzzy_ia.next_action(int(d[0]+0.2*np.random.randn()),\n",
      "                                                 int(d[1]+0.2*np.random.randn()),\n",
      "                                                 None)\n",
      "\n",
      "\n",
      "\"\"\"\n",
      "Creates the desired output\n",
      "\"\"\"\n",
      "target = [ target_function(d) for d in data ]\n",
      "\n",
      "\n",
      "\"\"\"\n",
      "Trains the network using gd with a learning rate of 0.01, for 500 epochs or 0.01 MSE\n",
      "ref: https://pythonhosted.org/neurolab/lib.html#neurolab.train.train_gd\n",
      "\"\"\"\n",
      "net.train(data, target, show=15)\n",
      "\n",
      "\n",
      "\"\"\"\n",
      "Creates the function that will feed foward the learnt weights\n",
      "\"\"\"\n",
      "def next_action(t, b, s):\n",
      "    data = np.array([t,b]).reshape(1,2)\n",
      "    return net.sim(data)[0]"
     ],
     "language": "python",
     "metadata": {},
     "outputs": [],
     "prompt_number": 6
    }
   ],
   "metadata": {}
  }
 ]
}