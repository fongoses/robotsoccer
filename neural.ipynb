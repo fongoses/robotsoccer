{
 "metadata": {
  "name": "",
  "signature": "sha256:bcc8c1394966371a06d96dc39d15b2bb49ad38ae6b18a16c1a1c6cb15e0732de"
 },
 "nbformat": 3,
 "nbformat_minor": 0,
 "worksheets": [
  {
   "cells": [
    {
     "cell_type": "code",
     "collapsed": false,
     "input": [
      "%pylab inline\n",
      "pylab.rcParams['figure.figsize'] = (10.0, 10.0)"
     ],
     "language": "python",
     "metadata": {},
     "outputs": [
      {
       "output_type": "stream",
       "stream": "stdout",
       "text": [
        "Populating the interactive namespace from numpy and matplotlib\n"
       ]
      },
      {
       "output_type": "stream",
       "stream": "stderr",
       "text": [
        "WARNING: pylab import has clobbered these variables: ['size']\n",
        "`%matplotlib` prevents importing * from pylab and numpy\n"
       ]
      }
     ],
     "prompt_number": 28
    },
    {
     "cell_type": "code",
     "collapsed": false,
     "input": [
      "import neurolab as nl\n",
      "import numpy as np\n",
      "\n",
      "x = np.array([[-150,120]])\n",
      "y = np.array([0.8,0.9])\n",
      "\n",
      "inp = x.reshape(1,2)\n",
      "tar = x.reshape(1,2)\n",
      "\n",
      "# Create network with 2 layers and random initialized\n",
      "net = nl.net.newff([[-180, 180],[-180,180]],[5, 2])\n",
      "\n",
      "# Train network\n",
      "error = net.train(inp, tar, epochs=500, show=100, goal=0.02)\n",
      "\n",
      "# Simulate network\n",
      "out = net.sim(inp)\n",
      "\n",
      "print out\n",
      "\n",
      "# # Plot result\n",
      "# import pylab as pl\n",
      "# pl.subplot(211)\n",
      "# pl.plot(error)\n",
      "# pl.xlabel('Epoch number')\n",
      "# pl.ylabel('error (default SSE)')\n",
      "\n",
      "# x2 = np.linspace(-6.0,6.0,150)\n",
      "# y2 = net.sim(x2.reshape(x2.size,1)).reshape(x2.size)\n",
      "\n",
      "# y3 = out.reshape(size)\n",
      "\n",
      "# pl.subplot(212)\n",
      "# pl.plot(x2, y2, '-',x , y, '.', x, y3, 'p')\n",
      "# pl.legend(['train target', 'net output'])\n",
      "# pl.show()\n"
     ],
     "language": "python",
     "metadata": {},
     "outputs": [
      {
       "output_type": "stream",
       "stream": "stdout",
       "text": [
        "[[-1.          0.99999997]]\n"
       ]
      }
     ],
     "prompt_number": 67
    }
   ],
   "metadata": {}
  }
 ]
}